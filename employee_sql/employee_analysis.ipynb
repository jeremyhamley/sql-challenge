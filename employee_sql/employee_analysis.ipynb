{
 "cells": [
  {
   "cell_type": "code",
   "execution_count": 1,
   "metadata": {},
   "outputs": [],
   "source": [
    "#import modules and set path/connection to the Pewlett Hackard employee database\n",
    "import matplotlib.pyplot as plt\n",
    "import pandas as pd\n",
    "from sqlalchemy import create_engine\n",
    "\n",
    "engine = create_engine('postgresql://postgres:<password>@localhost:5432/pew_hack_emp_db')\n",
    "connection = engine.connect()\n",
    "\n"
   ]
  },
  {
   "cell_type": "code",
   "execution_count": 2,
   "metadata": {},
   "outputs": [],
   "source": [
    "#collect all of the salaries in the salaries table in the Pewlett Hackard employee database\n",
    "sal = []\n",
    "\n",
    "salaries = engine.execute(\"select salary from salaries;\")\n",
    "for salary in salaries:\n",
    "    sal.append(salary[0])\n"
   ]
  },
  {
   "cell_type": "code",
   "execution_count": 3,
   "metadata": {},
   "outputs": [
    {
     "data": {
      "image/png": "[encoded data removed]",
      "text/plain": [
       "<Figure size 432x288 with 1 Axes>"
      ]
     },
     "metadata": {
      "needs_background": "light"
     },
     "output_type": "display_data"
    }
   ],
   "source": [
    "#create Histogram for the salary ranges for all employees\n",
    "plt.hist(sal, 15)\n",
    "plt.title('Salary Range for Employees')\n",
    "plt.xlabel('Salary')\n",
    "plt.ylabel('Count of Employees')\n",
    "plt.show()\n"
   ]
  },
  {
   "cell_type": "code",
   "execution_count": 4,
   "metadata": {},
   "outputs": [],
   "source": [
    "#collect the average salaries of employees with title using tables: titles, salaries, employees in the Pewlett Hackard employee database\n",
    "avg_sal_by_title_df = pd.read_sql(\n",
    "    ''' \n",
    "    select c.title , round(avg(a.salary),2) as avg_sal\n",
    "    from salaries a\n",
    "    join employees b\n",
    "        on (a.emp_no = b.emp_no)\n",
    "    join titles c\n",
    "        on (b.emp_title_id = c.title_id)\n",
    "    group by title\n",
    "    ;\n",
    "    ''',\n",
    "    connection\n",
    "    )\n"
   ]
  },
  {
   "cell_type": "code",
   "execution_count": 5,
   "metadata": {},
   "outputs": [
    {
     "data": {
      "text/html": [
       "<div>\n",
       "<style scoped>\n",
       "    .dataframe tbody tr th:only-of-type {\n",
       "        vertical-align: middle;\n",
       "    }\n",
       "\n",
       "    .dataframe tbody tr th {\n",
       "        vertical-align: top;\n",
       "    }\n",
       "\n",
       "    .dataframe thead th {\n",
       "        text-align: right;\n",
       "    }\n",
       "</style>\n",
       "<table border=\"1\" class=\"dataframe\">\n",
       "  <thead>\n",
       "    <tr style=\"text-align: right;\">\n",
       "      <th></th>\n",
       "      <th>avg_sal</th>\n",
       "    </tr>\n",
       "    <tr>\n",
       "      <th>title</th>\n",
       "      <th></th>\n",
       "    </tr>\n",
       "  </thead>\n",
       "  <tbody>\n",
       "    <tr>\n",
       "      <th>Assistant Engineer</th>\n",
       "      <td>48564.43</td>\n",
       "    </tr>\n",
       "    <tr>\n",
       "      <th>Engineer</th>\n",
       "      <td>48535.34</td>\n",
       "    </tr>\n",
       "    <tr>\n",
       "      <th>Manager</th>\n",
       "      <td>51531.04</td>\n",
       "    </tr>\n",
       "    <tr>\n",
       "      <th>Senior Engineer</th>\n",
       "      <td>48506.80</td>\n",
       "    </tr>\n",
       "    <tr>\n",
       "      <th>Senior Staff</th>\n",
       "      <td>58550.17</td>\n",
       "    </tr>\n",
       "    <tr>\n",
       "      <th>Staff</th>\n",
       "      <td>58465.38</td>\n",
       "    </tr>\n",
       "    <tr>\n",
       "      <th>Technique Leader</th>\n",
       "      <td>48582.90</td>\n",
       "    </tr>\n",
       "  </tbody>\n",
       "</table>\n",
       "</div>"
      ],
      "text/plain": [
       "                     avg_sal\n",
       "title                       \n",
       "Assistant Engineer  48564.43\n",
       "Engineer            48535.34\n",
       "Manager             51531.04\n",
       "Senior Engineer     48506.80\n",
       "Senior Staff        58550.17\n",
       "Staff               58465.38\n",
       "Technique Leader    48582.90"
      ]
     },
     "execution_count": 5,
     "metadata": {},
     "output_type": "execute_result"
    }
   ],
   "source": [
    "#set index to title and display the dataframe\n",
    "avg_sal_by_title_df = avg_sal_by_title_df.set_index(\"title\")\n",
    "avg_sal_by_title_df\n"
   ]
  },
  {
   "cell_type": "code",
   "execution_count": 6,
   "metadata": {},
   "outputs": [
    {
     "data": {
      "image/png": "[encoded data removed]",
      "text/plain": [
       "<Figure size 432x288 with 1 Axes>"
      ]
     },
     "metadata": {
      "needs_background": "light"
     },
     "output_type": "display_data"
    }
   ],
   "source": [
    "\n",
    "plt.bar(avg_sal_by_title_df.index,avg_sal_by_title_df[\"avg_sal\"], label=\"Average Salary\")\n",
    "plt.xticks( rotation=\"vertical\")\n",
    "plt.title(\"Average Salary by Title\")\n",
    "plt.legend(loc=\"upper left\")\n",
    "plt.xlabel(\"Title\")\n",
    "plt.ylabel(\"Salary\")\n",
    "plt.show()\n"
   ]
  },
  {
   "cell_type": "code",
   "execution_count": null,
   "metadata": {},
   "outputs": [],
   "source": []
  }
 ],
 "metadata": {
  "kernelspec": {
   "display_name": "Python [conda env:PythonData] *",
   "language": "python",
   "name": "conda-env-PythonData-py"
  },
  "language_info": {
   "codemirror_mode": {
    "name": "ipython",
    "version": 3
   },
   "file_extension": ".py",
   "mimetype": "text/x-python",
   "name": "python",
   "nbconvert_exporter": "python",
   "pygments_lexer": "ipython3",
   "version": "3.6.10"
  }
 },
 "nbformat": 4,
 "nbformat_minor": 4
}
